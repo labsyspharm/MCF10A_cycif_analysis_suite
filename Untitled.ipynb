{
 "cells": [
  {
   "cell_type": "code",
   "execution_count": null,
   "metadata": {},
   "outputs": [],
   "source": [
    "import pandas as pd\n",
    "import numpy as np\n",
    "import os\n",
    "from matplotlib import pyplot as plt\n",
    "from umap import UMAP\n",
    "import seaborn as sns\n",
    "import hdbscan\n",
    "import sys\n",
    "sys.path.insert(0, '../../')\n",
    "sys.path.insert(0, '../../cycif/')\n",
    "from get_data import file2frame\n",
    "from cycif import *\n",
    "from common_apis import *"
   ]
  },
  {
   "cell_type": "code",
   "execution_count": null,
   "metadata": {},
   "outputs": [],
   "source": [
    "# UMAP dimension reduction need be run only once\n",
    "pooled_norm_data = pd.DataFrame()\n",
    "for file in os.listdir():\n",
    "    if 'pooled' in file:\n",
    "        print(file)\n",
    "        data = pd.read_csv(file,index_col=0)\n",
    "        data_norm = data-data.quantile(q=0.75)\n",
    "        pooled_norm_data = pooled_norm_data.append(data_norm)"
   ]
  },
  {
   "cell_type": "code",
   "execution_count": null,
   "metadata": {},
   "outputs": [],
   "source": [
    "umap = UMAP(n_neighbors = 30,n_components=5)\n",
    "df_pooled_time_umap = umap.fit_transform(pooled_norm_data)\n",
    "pd.DataFrame(df_pooled_time_umap).to_csv('D:/MCF10A commons Umap data.csv',index=None)"
   ]
  },
  {
   "cell_type": "code",
   "execution_count": null,
   "metadata": {},
   "outputs": [],
   "source": [
    "os.chdir('d:/data')\n",
    "df_pooled_time_umap = pd.read_csv('MCF10A commons 533k cells UMAP data.csv',index_col=0)\n",
    "metadata = pd.read_csv('MCF10A commons metadata.csv',index_col=0)\n",
    "df_pooled_time_umap['time'] = metadata.time.values\n",
    "df_pooled_time_umap['Conc'] = metadata.Conc.values\n",
    "df_pooled_time_umap['Drug'] = metadata.DrugName.values\n",
    "df_pooled_time_umap.columns = ['X','Y','time','Conc','Drug']\n",
    "plt.scatter(df_pooled_time_umap.X, df_pooled_time_umap.Y, s=0.0001)"
   ]
  },
  {
   "cell_type": "code",
   "execution_count": null,
   "metadata": {},
   "outputs": [],
   "source": [
    "from hdbscan import HDBSCAN\n",
    "cp_list = []\n",
    "mcs_range = range(10,2000)\n",
    "for mcs in mcs_range:\n",
    "    clustering = HDBSCAN(min_cluster_size = mcs,min_samples=15,memory='d:/temp')\n",
    "    clustering.fit(df_pooled_time_umap.iloc[:,:2])\n",
    "    cp = np.median(clustering.cluster_persistence_)\n",
    "    cp_list.append(cp)"
   ]
  },
  {
   "cell_type": "code",
   "execution_count": null,
   "metadata": {},
   "outputs": [],
   "source": [
    "from hdbscan import HDBSCAN\n",
    "cp_list = []\n",
    "mcs_range = range(10,2000)\n",
    "for mcs in mcs_range:\n",
    "    clustering = HDBSCAN(min_cluster_size = mcs,min_samples=15,memory='d:/temp')\n",
    "    clustering.fit(df_pooled_time_umap.iloc[:,:2])\n",
    "    cp = np.median(clustering.cluster_persistence_)\n",
    "    cp_list.append(cp)"
   ]
  },
  {
   "cell_type": "code",
   "execution_count": null,
   "metadata": {},
   "outputs": [],
   "source": [
    "clustering = HDBSCAN(min_cluster_size = 619,min_samples=15,memory='d:/temp')\n",
    "clustering.fit(df_pooled_time_umap.iloc[:,:2])"
   ]
  },
  {
   "cell_type": "code",
   "execution_count": null,
   "metadata": {},
   "outputs": [],
   "source": [
    "sns.lineplot(mcs_range,cp_list)"
   ]
  },
  {
   "cell_type": "code",
   "execution_count": null,
   "metadata": {},
   "outputs": [],
   "source": [
    "np.unique(clustering.labels_, return_counts=True)"
   ]
  },
  {
   "cell_type": "code",
   "execution_count": null,
   "metadata": {},
   "outputs": [],
   "source": [
    "plt.close()\n",
    "sns.set(font_scale=2)\n",
    "ce_list = clustering.exemplars_\n",
    "cluster_id = -1\n",
    "plt.figure(figsize=(16,9))\n",
    "df_ce = pd.DataFrame()\n",
    "for cluster_id,cluster in enumerate(ce_list):\n",
    "    tmp_df = pd.DataFrame(cluster,columns=['X','Y'])\n",
    "    tmp_df['cluster'] = 'Cluster' + str(cluster_id)\n",
    "    df_ce = df_ce.append(tmp_df)\n",
    "sns.scatterplot(x='X',y='Y',hue='cluster',data=df_ce,legend='full')\n",
    "plt.legend(bbox_to_anchor=(1, 1.1))"
   ]
  },
  {
   "cell_type": "code",
   "execution_count": null,
   "metadata": {},
   "outputs": [],
   "source": [
    "fig = plt.figure()\n",
    "norm = plt.Normalize(0,10)\n",
    "sm = plt.cm.ScalarMappable(cmap=\"RdYlGn_r\", norm=norm)\n",
    "sm.set_array([])\n",
    "sns.set(font_scale=10)\n",
    "g = sns.FacetGrid(df_pooled_time_umap, col = 'time',row =\"Drug\",hue = 'Conc',palette = 'RdYlGn_r',height = 36)\n",
    "g = (g.map(plt.scatter, \"X\", \"Y\"))\n",
    "cbar_ax = fig.add_axes([0.85, 0.15, 5, 0.2])\n",
    "cb = fig.colorbar(sm,cax=cbar_ax,orientation='horizontal')\n",
    "cb.set_label(label='Dose',weight='bold',size = 32)\n",
    "cb.ax.tick_params(labelsize=32)\n",
    "plt.savefig('overall fig.png')"
   ]
  }
 ],
 "metadata": {
  "kernelspec": {
   "display_name": "Python 3",
   "language": "python",
   "name": "python3"
  },
  "language_info": {
   "codemirror_mode": {
    "name": "ipython",
    "version": 3
   },
   "file_extension": ".py",
   "mimetype": "text/x-python",
   "name": "python",
   "nbconvert_exporter": "python",
   "pygments_lexer": "ipython3",
   "version": "3.6.5"
  }
 },
 "nbformat": 4,
 "nbformat_minor": 2
}
