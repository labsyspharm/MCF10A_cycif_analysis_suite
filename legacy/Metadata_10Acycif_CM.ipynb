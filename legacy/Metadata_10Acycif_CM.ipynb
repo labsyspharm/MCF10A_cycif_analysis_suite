{
 "cells": [
  {
   "cell_type": "code",
   "execution_count": 1,
   "metadata": {},
   "outputs": [],
   "source": [
    "import pandas as pd"
   ]
  },
  {
   "cell_type": "code",
   "execution_count": 2,
   "metadata": {},
   "outputs": [],
   "source": [
    "dfm = pd.read_csv('MCF10A 090718 pooled metadata.csv')"
   ]
  },
  {
   "cell_type": "code",
   "execution_count": 3,
   "metadata": {},
   "outputs": [
    {
     "data": {
      "text/html": [
       "<div>\n",
       "<style scoped>\n",
       "    .dataframe tbody tr th:only-of-type {\n",
       "        vertical-align: middle;\n",
       "    }\n",
       "\n",
       "    .dataframe tbody tr th {\n",
       "        vertical-align: top;\n",
       "    }\n",
       "\n",
       "    .dataframe thead th {\n",
       "        text-align: right;\n",
       "    }\n",
       "</style>\n",
       "<table border=\"1\" class=\"dataframe\">\n",
       "  <thead>\n",
       "    <tr style=\"text-align: right;\">\n",
       "      <th></th>\n",
       "      <th>Unnamed: 0</th>\n",
       "      <th>Well</th>\n",
       "      <th>ligand</th>\n",
       "      <th>dose</th>\n",
       "      <th>time</th>\n",
       "      <th>Plate</th>\n",
       "      <th>condition</th>\n",
       "      <th>replicate</th>\n",
       "      <th>collection</th>\n",
       "      <th>sampleid</th>\n",
       "    </tr>\n",
       "  </thead>\n",
       "  <tbody>\n",
       "    <tr>\n",
       "      <th>0</th>\n",
       "      <td>Cell_0</td>\n",
       "      <td>C10</td>\n",
       "      <td>ControlT0</td>\n",
       "      <td>0</td>\n",
       "      <td>0</td>\n",
       "      <td>1</td>\n",
       "      <td>ControlT0_0</td>\n",
       "      <td>A</td>\n",
       "      <td>C3</td>\n",
       "      <td>ControlT0_0_C3_A</td>\n",
       "    </tr>\n",
       "    <tr>\n",
       "      <th>1</th>\n",
       "      <td>Cell_1</td>\n",
       "      <td>C10</td>\n",
       "      <td>ControlT0</td>\n",
       "      <td>0</td>\n",
       "      <td>0</td>\n",
       "      <td>1</td>\n",
       "      <td>ControlT0_0</td>\n",
       "      <td>A</td>\n",
       "      <td>C3</td>\n",
       "      <td>ControlT0_0_C3_A</td>\n",
       "    </tr>\n",
       "    <tr>\n",
       "      <th>2</th>\n",
       "      <td>Cell_2</td>\n",
       "      <td>C10</td>\n",
       "      <td>ControlT0</td>\n",
       "      <td>0</td>\n",
       "      <td>0</td>\n",
       "      <td>1</td>\n",
       "      <td>ControlT0_0</td>\n",
       "      <td>A</td>\n",
       "      <td>C3</td>\n",
       "      <td>ControlT0_0_C3_A</td>\n",
       "    </tr>\n",
       "    <tr>\n",
       "      <th>3</th>\n",
       "      <td>Cell_3</td>\n",
       "      <td>C10</td>\n",
       "      <td>ControlT0</td>\n",
       "      <td>0</td>\n",
       "      <td>0</td>\n",
       "      <td>1</td>\n",
       "      <td>ControlT0_0</td>\n",
       "      <td>A</td>\n",
       "      <td>C3</td>\n",
       "      <td>ControlT0_0_C3_A</td>\n",
       "    </tr>\n",
       "    <tr>\n",
       "      <th>4</th>\n",
       "      <td>Cell_4</td>\n",
       "      <td>C10</td>\n",
       "      <td>ControlT0</td>\n",
       "      <td>0</td>\n",
       "      <td>0</td>\n",
       "      <td>1</td>\n",
       "      <td>ControlT0_0</td>\n",
       "      <td>A</td>\n",
       "      <td>C3</td>\n",
       "      <td>ControlT0_0_C3_A</td>\n",
       "    </tr>\n",
       "  </tbody>\n",
       "</table>\n",
       "</div>"
      ],
      "text/plain": [
       "  Unnamed: 0 Well     ligand  dose  time  Plate    condition replicate  \\\n",
       "0     Cell_0  C10  ControlT0     0     0      1  ControlT0_0         A   \n",
       "1     Cell_1  C10  ControlT0     0     0      1  ControlT0_0         A   \n",
       "2     Cell_2  C10  ControlT0     0     0      1  ControlT0_0         A   \n",
       "3     Cell_3  C10  ControlT0     0     0      1  ControlT0_0         A   \n",
       "4     Cell_4  C10  ControlT0     0     0      1  ControlT0_0         A   \n",
       "\n",
       "  collection          sampleid  \n",
       "0         C3  ControlT0_0_C3_A  \n",
       "1         C3  ControlT0_0_C3_A  \n",
       "2         C3  ControlT0_0_C3_A  \n",
       "3         C3  ControlT0_0_C3_A  \n",
       "4         C3  ControlT0_0_C3_A  "
      ]
     },
     "execution_count": 3,
     "metadata": {},
     "output_type": "execute_result"
    }
   ],
   "source": [
    "dfm.head()"
   ]
  },
  {
   "cell_type": "code",
   "execution_count": 4,
   "metadata": {},
   "outputs": [
    {
     "data": {
      "text/plain": [
       "array(['ControlT0', 'control', 'TGFb', 'HGF', 'BMP2', 'OSM', 'EGF',\n",
       "       'IFNg'], dtype=object)"
      ]
     },
     "execution_count": 4,
     "metadata": {},
     "output_type": "execute_result"
    }
   ],
   "source": [
    "dfm.ligand.unique()"
   ]
  },
  {
   "cell_type": "code",
   "execution_count": 5,
   "metadata": {},
   "outputs": [],
   "source": [
    "rv = {'ControlT0':'ctrl', 'control':'PBS', 'TGFb':'TGFB', 'IFNg':'IFNG'}\n",
    "dfm = dfm.replace({'ligand':rv})"
   ]
  },
  {
   "cell_type": "code",
   "execution_count": 6,
   "metadata": {},
   "outputs": [],
   "source": [
    "dfm['condition'] = [\"%s_%s\" % (l, t) for l,t in zip(dfm.ligand, dfm.time)]\n",
    "dfm['sampleid'] = [\"%s_%s_%s_%s\" % (l, t, c, r) for l,t, c, r in zip(dfm.ligand, dfm.time, dfm.collection, dfm.replicate)]\n",
    "dfm = dfm.rename(columns = {'Well':'well', 'Plate':'plate'})"
   ]
  },
  {
   "cell_type": "code",
   "execution_count": 7,
   "metadata": {},
   "outputs": [
    {
     "data": {
      "text/html": [
       "<div>\n",
       "<style scoped>\n",
       "    .dataframe tbody tr th:only-of-type {\n",
       "        vertical-align: middle;\n",
       "    }\n",
       "\n",
       "    .dataframe tbody tr th {\n",
       "        vertical-align: top;\n",
       "    }\n",
       "\n",
       "    .dataframe thead th {\n",
       "        text-align: right;\n",
       "    }\n",
       "</style>\n",
       "<table border=\"1\" class=\"dataframe\">\n",
       "  <thead>\n",
       "    <tr style=\"text-align: right;\">\n",
       "      <th></th>\n",
       "      <th>Unnamed: 0</th>\n",
       "      <th>well</th>\n",
       "      <th>ligand</th>\n",
       "      <th>dose</th>\n",
       "      <th>time</th>\n",
       "      <th>plate</th>\n",
       "      <th>condition</th>\n",
       "      <th>replicate</th>\n",
       "      <th>collection</th>\n",
       "      <th>sampleid</th>\n",
       "    </tr>\n",
       "  </thead>\n",
       "  <tbody>\n",
       "    <tr>\n",
       "      <th>0</th>\n",
       "      <td>Cell_0</td>\n",
       "      <td>C10</td>\n",
       "      <td>ctrl</td>\n",
       "      <td>0</td>\n",
       "      <td>0</td>\n",
       "      <td>1</td>\n",
       "      <td>ctrl_0</td>\n",
       "      <td>A</td>\n",
       "      <td>C3</td>\n",
       "      <td>ctrl_0_C3_A</td>\n",
       "    </tr>\n",
       "    <tr>\n",
       "      <th>1</th>\n",
       "      <td>Cell_1</td>\n",
       "      <td>C10</td>\n",
       "      <td>ctrl</td>\n",
       "      <td>0</td>\n",
       "      <td>0</td>\n",
       "      <td>1</td>\n",
       "      <td>ctrl_0</td>\n",
       "      <td>A</td>\n",
       "      <td>C3</td>\n",
       "      <td>ctrl_0_C3_A</td>\n",
       "    </tr>\n",
       "    <tr>\n",
       "      <th>2</th>\n",
       "      <td>Cell_2</td>\n",
       "      <td>C10</td>\n",
       "      <td>ctrl</td>\n",
       "      <td>0</td>\n",
       "      <td>0</td>\n",
       "      <td>1</td>\n",
       "      <td>ctrl_0</td>\n",
       "      <td>A</td>\n",
       "      <td>C3</td>\n",
       "      <td>ctrl_0_C3_A</td>\n",
       "    </tr>\n",
       "    <tr>\n",
       "      <th>3</th>\n",
       "      <td>Cell_3</td>\n",
       "      <td>C10</td>\n",
       "      <td>ctrl</td>\n",
       "      <td>0</td>\n",
       "      <td>0</td>\n",
       "      <td>1</td>\n",
       "      <td>ctrl_0</td>\n",
       "      <td>A</td>\n",
       "      <td>C3</td>\n",
       "      <td>ctrl_0_C3_A</td>\n",
       "    </tr>\n",
       "    <tr>\n",
       "      <th>4</th>\n",
       "      <td>Cell_4</td>\n",
       "      <td>C10</td>\n",
       "      <td>ctrl</td>\n",
       "      <td>0</td>\n",
       "      <td>0</td>\n",
       "      <td>1</td>\n",
       "      <td>ctrl_0</td>\n",
       "      <td>A</td>\n",
       "      <td>C3</td>\n",
       "      <td>ctrl_0_C3_A</td>\n",
       "    </tr>\n",
       "  </tbody>\n",
       "</table>\n",
       "</div>"
      ],
      "text/plain": [
       "  Unnamed: 0 well ligand  dose  time  plate condition replicate collection  \\\n",
       "0     Cell_0  C10   ctrl     0     0      1    ctrl_0         A         C3   \n",
       "1     Cell_1  C10   ctrl     0     0      1    ctrl_0         A         C3   \n",
       "2     Cell_2  C10   ctrl     0     0      1    ctrl_0         A         C3   \n",
       "3     Cell_3  C10   ctrl     0     0      1    ctrl_0         A         C3   \n",
       "4     Cell_4  C10   ctrl     0     0      1    ctrl_0         A         C3   \n",
       "\n",
       "      sampleid  \n",
       "0  ctrl_0_C3_A  \n",
       "1  ctrl_0_C3_A  \n",
       "2  ctrl_0_C3_A  \n",
       "3  ctrl_0_C3_A  \n",
       "4  ctrl_0_C3_A  "
      ]
     },
     "execution_count": 7,
     "metadata": {},
     "output_type": "execute_result"
    }
   ],
   "source": [
    "dfm.head()"
   ]
  },
  {
   "cell_type": "code",
   "execution_count": 8,
   "metadata": {},
   "outputs": [],
   "source": [
    "dfm.to_csv('MCF10A 090718 pooled metadata CM.csv')"
   ]
  },
  {
   "cell_type": "code",
   "execution_count": null,
   "metadata": {},
   "outputs": [],
   "source": []
  }
 ],
 "metadata": {
  "kernelspec": {
   "display_name": "Python 3",
   "language": "python",
   "name": "python3"
  },
  "language_info": {
   "codemirror_mode": {
    "name": "ipython",
    "version": 3
   },
   "file_extension": ".py",
   "mimetype": "text/x-python",
   "name": "python",
   "nbconvert_exporter": "python",
   "pygments_lexer": "ipython3",
   "version": "3.6.5"
  }
 },
 "nbformat": 4,
 "nbformat_minor": 2
}
