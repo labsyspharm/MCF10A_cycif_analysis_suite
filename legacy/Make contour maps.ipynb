{
 "cells": [
  {
   "cell_type": "code",
   "execution_count": null,
   "metadata": {},
   "outputs": [],
   "source": [
    "import pandas as pd\n",
    "import numpy as np\n",
    "import os\n",
    "from scipy.stats import ttest_ind as ttest\n",
    "from statsmodels.stats.multitest import fdrcorrection as fdr\n",
    "from matplotlib import pyplot as plt\n",
    "from umap import UMAP\n",
    "from sklearn.cluster import DBSCAN\n",
    "from sklearn.preprocessing import robust_scale\n",
    "import hdbscan\n",
    "import sys\n",
    "import seaborn as sns\n",
    "sys.path.insert(0, '../../')\n",
    "sys.path.insert(0, '../../cycif/')\n",
    "from get_data import file2frame\n",
    "from cycif import *\n",
    "from common_apis import *"
   ]
  },
  {
   "cell_type": "code",
   "execution_count": null,
   "metadata": {},
   "outputs": [],
   "source": [
    "os.chdir('d:/data')\n",
    "metadata = pd.read_csv('MCF10A commons metadata.csv',index_col=0)\n",
    "metadata.loc[metadata.Conc==0,'Conc'] = 1\n",
    "for time in reversed(['24h','48h','72h']):\n",
    "    fn = 'MCF10A commons pooled data '+ time + '.csv'\n",
    "    if os.path.exists('Umap data ' + fn):\n",
    "        df_data = pd.read_csv(fn,index_col=0)\n",
    "        df_data = robust_scale(df_data,quantile_range=(1,99))\n",
    "        n_neighbors = int(df_data.shape[0]/100)\n",
    "        umap = UMAP(n_components=2,n_neighbors=50, min_dist = 0.1)\n",
    "        df_data_umap = pd.read_csv('Umap data ' + fn,index_col=0).values\n",
    "    else:\n",
    "        df_data_umap = umap.fit_transform(df_data)\n",
    "        pd.DataFrame(df_data_umap).to_csv('Umap data ' + fn)\n",
    "    min_size = 5/int(df_data_umap.shape[0]/50000)\n",
    "    max_size = 20/int(df_data_umap.shape[0]/50000)\n",
    "    plt.figure(figsize=(32,18))\n",
    "    labels = metadata[metadata.time==time].DrugName.values\n",
    "    sizes = metadata[metadata.time==time].groupby('DrugName').Conc.transform(lambda x: (x/x.max()).values)\n",
    "    fig = sns.scatterplot(df_data_umap[:,0],df_data_umap[:,1],hue = labels, size=sizes,sizes=(min_size,max_size),edgecolor = 'none', legend='brief')\n",
    "    handles, labels = fig.get_legend_handles_labels()\n",
    "    fig.legend(handles[:9], labels[:9], markerscale=2, fontsize = 20)\n",
    "    plt.savefig(time+'.png')\n",
    "    plt.close()\n",
    "    \n",
    "    # contour maps\n",
    "    labels = metadata[metadata.time==time].DrugName.reset_index()                                     \n",
    "    # Set up the figure\n",
    "    _,axs = plt.subplots(3,3,figsize=(30, 30))\n",
    "    axs = axs.ravel()\n",
    "    dmso = labels[labels.iloc[:,1]=='DMSO'].index\n",
    "    dmso = df_data_umap[dmso,:]\n",
    "    # Draw the two density plots\n",
    "    dmso_plot = sns.kdeplot(dmso[:,0], dmso[:,1],cmap=\"Blues\", shade=True, shade_lowest=False, ax = axs[0])\n",
    "    dmso_plot.set_title('DMSO')                                  \n",
    "    ax_i = 1\n",
    "    for drug in sorted(labels.iloc[:,1].unique()):\n",
    "        if drug == 'DMSO':\n",
    "            continue\n",
    "        idx = labels[labels.iloc[:,1]==drug].index\n",
    "        df_drug = df_data_umap[idx,:]\n",
    "        subplot = sns.kdeplot(df_drug[:,0], df_drug[:,1],cmap=\"Reds\", shade=True, shade_lowest=False,ax = axs[ax_i])\n",
    "        subplot.set_title(drug)\n",
    "        ax_i+=1\n",
    "    plt.savefig(time+' Distribution contour plot.png')\n",
    "    plt.close()"
   ]
  },
  {
   "cell_type": "code",
   "execution_count": null,
   "metadata": {},
   "outputs": [],
   "source": []
  }
 ],
 "metadata": {
  "kernelspec": {
   "display_name": "Python 3",
   "language": "python",
   "name": "python3"
  },
  "language_info": {
   "codemirror_mode": {
    "name": "ipython",
    "version": 3
   },
   "file_extension": ".py",
   "mimetype": "text/x-python",
   "name": "python",
   "nbconvert_exporter": "python",
   "pygments_lexer": "ipython3",
   "version": "3.6.5"
  }
 },
 "nbformat": 4,
 "nbformat_minor": 2
}
