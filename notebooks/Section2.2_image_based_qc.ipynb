{
 "cells": [
  {
   "cell_type": "code",
   "execution_count": null,
   "metadata": {},
   "outputs": [],
   "source": [
    "import pandas as pd\n",
    "import numpy as np\n",
    "from itertools import product\n",
    "import os\n",
    "import cv2\n",
    "import tifffile as tiff\n",
    "from cycifsuite.get_data import read_synapse_file\n",
    "from cycifsuite.image_based_qc import *"
   ]
  },
  {
   "cell_type": "code",
   "execution_count": null,
   "metadata": {},
   "outputs": [],
   "source": [
    "imstorpath = 'Z:/sorger/data/IN_Cell_Analyzer_6000/Connor/Fixed MCF10 Common/20x full exp/20180905_Updated/'\n",
    "channel_info = pd.read_csv('Z:/sorger/data/IN_Cell_Analyzer_6000/Connor/Fixed MCF10 Common/20x full exp/20180905_Updated/channel_metadata.csv')\n",
    "metadata = pd.read_csv('N:/HiTS Projects and Data/Personal/Jake/mcf10a/MCF10A 090718 pooled metadata.csv', index_col=0)"
   ]
  },
  {
   "cell_type": "code",
   "execution_count": null,
   "metadata": {},
   "outputs": [],
   "source": [
    "# Update metadata with multi-nuclea cells.\n",
    "finished_pwf = []\n",
    "for plate in range(1,19):\n",
    "    for i,j in product('CDE', ['04','05','06','07','08','09','10']):\n",
    "        well = i+j\n",
    "        for fld in ['fld' + str(i) for i in range(1,10)]:\n",
    "            pwf = '_'.join([str(plate), 'cell', well, fld])\n",
    "            if pwf in finished_pwf:\n",
    "                continue\n",
    "            print(pwf)\n",
    "            path = imstorpath + 'plate' + str(plate) + '/analysis/'\n",
    "            nuc_mask = path+'_'.join([well, fld, 'nucleiLM.tif'])\n",
    "            cyto_mask = path+'_'.join([well, fld, 'cytoLM.tif'])\n",
    "            ffc = path+'_'.join([well, fld, 'FFC.tif'])\n",
    "            image = tiff.imread(ffc)\n",
    "            img_mask = tiff.imread(nuc_mask)\n",
    "            img_mask = img_mask.reshape(2048,2048)\n",
    "            num_nucs, cells = find_num_cells_in_img(image, img_mask, pwf)\n",
    "            if len(cells)!=metadata[metadata.pwf==pwf].shape[0]:\n",
    "                num_nucs, cells = zip(*[(num_nucs[i], x) for i, x in enumerate(cells) if x in metadata.index])\n",
    "            metadata.loc[cells,'num_nuclei_in_mask'] = num_nucs\n",
    "            finished_pwf.append(pwf)\n",
    "metadata.to_csv('d:/data/MCF10A 090718 data/MCF10A 090718 pooled metadata_post_img_qc.csv')"
   ]
  }
 ],
 "metadata": {
  "kernelspec": {
   "display_name": "Python 3",
   "language": "python",
   "name": "python3"
  },
  "language_info": {
   "codemirror_mode": {
    "name": "ipython",
    "version": 3
   },
   "file_extension": ".py",
   "mimetype": "text/x-python",
   "name": "python",
   "nbconvert_exporter": "python",
   "pygments_lexer": "ipython3",
   "version": "3.6.5"
  }
 },
 "nbformat": 4,
 "nbformat_minor": 2
}
