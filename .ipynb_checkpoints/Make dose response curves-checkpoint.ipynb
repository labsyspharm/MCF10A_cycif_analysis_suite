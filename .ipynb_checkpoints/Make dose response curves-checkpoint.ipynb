{
 "cells": [
  {
   "cell_type": "code",
   "execution_count": 63,
   "metadata": {},
   "outputs": [],
   "source": [
    "import pandas as pd\n",
    "from matplotlib import pyplot as plt\n",
    "import seaborn as sns\n",
    "import os\n",
    "import numpy as np"
   ]
  },
  {
   "cell_type": "code",
   "execution_count": null,
   "metadata": {},
   "outputs": [],
   "source": [
    "metadata = pd.read_csv('D:/data/MCF10A commons metadata.csv',index_col=0)\n",
    "metadata.Conc = metadata.Conc.apply(lambda x: \"{:.1e}\".format(x))\n",
    "\n",
    "condition_vc = metadata.groupby(['DrugName','time','Conc','Cluster']).well.count()\n",
    "# This is a very cool way of using multiindex, first get the by level counts and reset index to align with the orginal one then do the element-wise div to get the frequency\n",
    "level_sum = condition_vc.groupby(['DrugName','time','Conc']).transform('sum')\n",
    "condition_weight = condition_vc.div(level_sum)\n",
    "\n",
    "df_fc = pd.read_excel('D:/data/MCF10A commons report.xlsx',index_col=0)\n",
    "# print(metadata.head())\n",
    "print(df_fc.head())"
   ]
  },
  {
   "cell_type": "code",
   "execution_count": 13,
   "metadata": {},
   "outputs": [],
   "source": [
    "# make heatmap\n",
    "df_fc['condition'] = df_fc.DrugName + '_' + df_fc.Dose.astype(str)+ '_' + df_fc.Time + '_' + df_fc.Cluster\n",
    "df_summary = df_fc.pivot(values='logFC',columns='condition').transpose()\n",
    "offset = []\n",
    "for i,tag in enumerate(['Drug','Dose','Time']):\n",
    "    metadata = [x.split('_')[i] for x in df_summary.index]\n",
    "    df_summary.insert(0,tag,metadata)\n",
    "    offset+=['']\n",
    "df_summary = df_summary.transpose()\n",
    "for i, tag in enumerate(['Location','Marker']):\n",
    "    metadata = [x.split('_')[i] for x in df_summary.index[3:]]\n",
    "    df_summary.insert(0,tag,offset+metadata)\n",
    "df_summary.to_csv('d:/data/MCF10A drug response heatmap.csv')"
   ]
  },
  {
   "cell_type": "code",
   "execution_count": 65,
   "metadata": {},
   "outputs": [],
   "source": [
    "# Make series of drug by marker line plots over time and clusters.\n",
    "os.chdir('D:/data')\n",
    "sns.set(font_scale=2)\n",
    "for drug in df_fc.DrugName.unique():\n",
    "    if drug=='DMSO':\n",
    "        continue\n",
    "    sub_df_fc = df_fc[df_fc.DrugName==drug]\n",
    "    sub_df_fc.reset_index(inplace=True)\n",
    "    sub_df_fc = sub_df_fc.sort_values(['Dose','index'])\n",
    "    sub_df_fc.Dose = np.log10(sub_df_fc.Dose)\n",
    "    g = sns.FacetGrid(sub_df_fc,col_wrap=10,col='index',hue='Time',hue_order=['24h','48h','72h'], height=5)\n",
    "    g = (g.map(plt.plot,'Dose','logFC', marker=\".\", linewidth=5)\n",
    "         .set_axis_labels(\"log10 Dose\", \"Dose\")\n",
    "         .set_titles(drug + \" {col_name} \", weight='bold')\n",
    "         .fig.subplots_adjust(wspace=.05, hspace=.1))\n",
    "    plt.legend(bbox_to_anchor = (1.1,0.6))\n",
    "    plt.savefig(drug + ' marker logFC over time.png')\n",
    "    plt.close()"
   ]
  }
 ],
 "metadata": {
  "kernelspec": {
   "display_name": "Python 3",
   "language": "python",
   "name": "python3"
  },
  "language_info": {
   "codemirror_mode": {
    "name": "ipython",
    "version": 3
   },
   "file_extension": ".py",
   "mimetype": "text/x-python",
   "name": "python",
   "nbconvert_exporter": "python",
   "pygments_lexer": "ipython3",
   "version": "3.6.5"
  }
 },
 "nbformat": 4,
 "nbformat_minor": 2
}
