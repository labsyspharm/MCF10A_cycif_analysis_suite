{
 "cells": [
  {
   "cell_type": "code",
   "execution_count": 1,
   "metadata": {},
   "outputs": [],
   "source": [
    "import pandas as pd\n",
    "import numpy as np\n",
    "import os\n",
    "from matplotlib import pyplot as plt\n",
    "from umap import UMAP\n",
    "import seaborn as sns\n",
    "import sys\n",
    "from hdbscan import HDBSCAN\n",
    "from sklearn.preprocessing import minmax_scale\n",
    "\n",
    "sys.path.insert(0, '../../')\n",
    "sys.path.insert(0, '../../cycif/')\n",
    "from get_data import file2frame\n",
    "from cycif import *\n",
    "from common_apis import *\n",
    "import random\n",
    "random.seed(50)"
   ]
  },
  {
   "cell_type": "code",
   "execution_count": 2,
   "metadata": {},
   "outputs": [],
   "source": [
    "# UMAP dimension reduction need be run only once\n",
    "os.chdir('D:/data')\n",
    "umap_dist = 'correlation'\n",
    "umap_nn = 5\n",
    "umap_md = 0.1\n",
    "umap_data_fn = ' '.join(['MCF10A commons 533k cells UMAP data v5', 'distfun_', umap_dist, 'NN_', str(umap_nn),'minDist_', str(umap_md),'.csv'])\n",
    "\n",
    "if not os.path.exists(umap_data_fn):\n",
    "    pooled_norm_data = pd.DataFrame()\n",
    "    for file in os.listdir():\n",
    "        if 'pooled' in file:\n",
    "            print(file)\n",
    "            data = pd.read_csv(file,index_col=0)\n",
    "            data_norm = data-data.quantile(q=0.75)\n",
    "            pooled_norm_data = pooled_norm_data.append(data_norm)          \n",
    "    umap = UMAP(n_neighbors = umap_nn, n_components=2, min_dist=umap_md, metric=umap_dist)\n",
    "    df_pooled_time_umap = umap.fit_transform(pooled_norm_data)\n",
    "    metadata = pd.read_csv('MCF10A commons metadata.csv',index_col=0)\n",
    "    df_pooled_time_umap = pd.DataFrame(df_pooled_time_umap,columns = ['X' + str(i) for i in range(df_pooled_time_umap.shape[1])])\n",
    "    df_pooled_time_umap['time'] = metadata.time.values\n",
    "    df_pooled_time_umap['Conc'] = metadata.Conc.values\n",
    "    df_pooled_time_umap['Drug'] = metadata.DrugName.values\n",
    "    df_pooled_time_umap.to_csv(umap_data_fn)\n",
    "else:\n",
    "    df_pooled_time_umap = pd.read_csv(umap_data_fn,index_col=0)"
   ]
  },
  {
   "cell_type": "code",
   "execution_count": null,
   "metadata": {},
   "outputs": [],
   "source": [
    "# make umap plot colored by drug name\n",
    "plt.figure(figsize=(32,18))\n",
    "df_labels = df_pooled_time_umap.Drug.reset_index()\n",
    "df_low_dim = df_pooled_time_umap.iloc[:,:2].values\n",
    "df_pooled_time_umap = df_pooled_time_umap.sort_values('Conc')\n",
    "for cluster in sorted(df_labels.iloc[:,1].unique()):\n",
    "    cells_idx = df_labels[df_labels.iloc[:,1]==cluster].index.values\n",
    "    sizes_by_dose = pd.factorize(df_pooled_time_umap.iloc[cells_idx].Conc)[0]\n",
    "    sizes_by_dose = 0.25*(sizes_by_dose/sizes_by_dose.max())\n",
    "    if cluster != 'DMSO':\n",
    "        plt.scatter(df_low_dim[cells_idx,0],df_low_dim[cells_idx,1],label=cluster, s = sizes_by_dose)\n",
    "    else:\n",
    "        plt.scatter(df_low_dim[cells_idx,0],df_low_dim[cells_idx,1],label=cluster, s = 0.25)\n",
    "plt.legend(markerscale = 50,prop={'size': 32})\n",
    "plt.savefig('Overall Umap scatterplot sized by factorized doses.png')\n",
    "plt.close()"
   ]
  },
  {
   "cell_type": "code",
   "execution_count": null,
   "metadata": {},
   "outputs": [],
   "source": [
    "# Umap scatter plot colored by marker expression\n",
    "\n",
    "# pooled_norm_data = pd.DataFrame()\n",
    "# for file in os.listdir():\n",
    "#     if 'pooled' in file:\n",
    "#         print(file)\n",
    "#         data = pd.read_csv(file,index_col=0)\n",
    "#         data_norm = data-data.quantile(q=0.75)\n",
    "#         pooled_norm_data = pooled_norm_data.append(data_norm)\n",
    "\n",
    "pooled_norm_data = pd.read_csv('533k quantile normed data.csv',index_col=0)\n",
    "df_pooled_time_umap = pd.read_csv(umap_data_fn,index_col=0)\n",
    "df_low_dim = df_pooled_time_umap.iloc[:,:2].values\n",
    "fig,axes = plt.subplots(7,7,figsize = (48,27), sharex=True, sharey=True)\n",
    "axes = axes.ravel()\n",
    "\n",
    "for i, col in enumerate (sorted(pooled_norm_data.columns)):\n",
    "    col_vector = pooled_norm_data[col].values\n",
    "    col_vector = col_vector-np.median(col_vector)\n",
    "    col_vector[col_vector<=-5] = -5\n",
    "    col_vector[col_vector>=5] = 5\n",
    "    axes[i].scatter(df_low_dim[:,0],df_low_dim[:,1],c=col_vector, s=0.001, cmap = 'coolwarm', label = col)\n",
    "    axes[i].legend(markerscale=500, frameon=False)\n",
    "    \n",
    "plt.savefig('Overall Umap with expr',bbox_inches='tight')\n",
    "plt.close()"
   ]
  },
  {
   "cell_type": "code",
   "execution_count": null,
   "metadata": {},
   "outputs": [],
   "source": [
    "norm = plt.Normalize(0,10)\n",
    "sm = plt.cm.ScalarMappable(cmap=\"RdYlGn_r\", norm=norm)\n",
    "sm.set_array([])\n",
    "sns.set(font_scale=3)\n",
    "df_pooled_time_umap.sort_values(['Conc','time'],inplace=True)\n",
    "drugs = df_pooled_time_umap.Drug.unique()\n",
    "for drug in drugs:\n",
    "    data = df_pooled_time_umap[df_pooled_time_umap.Drug.isin(['DMSO',drug])]\n",
    "    data.Drug = drug\n",
    "    if drug=='DMSO':        \n",
    "        g = sns.FacetGrid(data, row='Drug',col = 'time',height = 10)\n",
    "        g = (g.map(plt.scatter, \"X0\", \"X1\", s = 0.1))\n",
    "    else:\n",
    "        g = sns.FacetGrid(data, row='Drug',col = 'time',hue = 'Conc',palette = 'RdYlGn_r',height = 10)\n",
    "        g = (g.map(plt.scatter, \"X0\", \"X1\", s = 0.1))\n",
    "    plt.colorbar(sm)\n",
    "    g.savefig(drug + ' overall fig.png')\n",
    "    plt.close()"
   ]
  }
 ],
 "metadata": {
  "kernelspec": {
   "display_name": "Python 3",
   "language": "python",
   "name": "python3"
  },
  "language_info": {
   "codemirror_mode": {
    "name": "ipython",
    "version": 3
   },
   "file_extension": ".py",
   "mimetype": "text/x-python",
   "name": "python",
   "nbconvert_exporter": "python",
   "pygments_lexer": "ipython3",
   "version": "3.6.5"
  }
 },
 "nbformat": 4,
 "nbformat_minor": 2
}
