{
 "cells": [
  {
   "cell_type": "code",
   "execution_count": null,
   "metadata": {},
   "outputs": [],
   "source": [
    "import pandas as pd\n",
    "import numpy as np\n",
    "import os\n",
    "import synapseclient as syn\n",
    "import synapseutils\n",
    "import sys\n",
    "import random\n",
    "import seaborn as sns\n",
    "from scipy.stats import ttest_ind as ttest\n",
    "from scipy.stats import ks_2samp\n",
    "from sklearn.metrics.pairwise import euclidean_distances\n",
    "from statsmodels.stats.multitest import fdrcorrection as fdr\n",
    "from matplotlib import pyplot as plt\n",
    "from Cycif_data_analysis import per_well_analysis\n",
    "random.seed(50)"
   ]
  },
  {
   "cell_type": "code",
   "execution_count": null,
   "metadata": {},
   "outputs": [],
   "source": [
    "# Load data from 0907 data\n",
    "os.chdir('D:/data/MCF10A 090718 data/')\n",
    "if not os.path.exists('Results'):\n",
    "    os.mkdir('Results')\n",
    "datatype = 'Mean'\n",
    "control_name = 'PBS'\n",
    "output_prefix = ' '.join([control_name,'as control'])\n",
    "\n",
    "pooled_expr_data = pd.read_csv(' '.join(['MCF10A 090718 pooled', datatype, 'normalized data.csv']),index_col=0)\n",
    "pooled_metadata = pd.read_csv('MCF10A 090718 pooled metadata.csv',index_col=0)\n",
    "pooled_metadata = pooled_metadata[pooled_metadata.condition!='ctrl_0']\n",
    "pooled_expr_data = pooled_expr_data.loc[pooled_metadata.index]\n",
    "pooled_expr_data.fillna(0,inplace=True)\n",
    "pooled_expr_data.columns = sorted(pooled_expr_data.columns)\n",
    "\n",
    "# Per well analysis\n",
    "pwa = per_well_analysis(pooled_expr_data,pooled_metadata,batch_col='Plate',drug_col='ligand',dose_col='dose',time_col='time',control_name = control_name, output_prefix=output_prefix)\n",
    "pwa.make_contrast(batch_wise=True)\n",
    "pwa.descriptive_analysis()\n",
    "pwa.contrast_based_distance()\n",
    "pwa.contrast_based_differential_analysis()\n",
    "pwa.plot_dist_violinplot('ligand','time')\n",
    "pwa.make_fc_heamtap_matrix(['ligand','time','Batch'],output_fname=output_prefix)\n",
    "pwa.make_heatmaps(sorting='simple')\n",
    "pwa.make_swarm_plot()\n",
    "pwa.channel_dist_plot()"
   ]
  }
 ],
 "metadata": {
  "kernelspec": {
   "display_name": "Python 3",
   "language": "python",
   "name": "python3"
  },
  "language_info": {
   "codemirror_mode": {
    "name": "ipython",
    "version": 3
   },
   "file_extension": ".py",
   "mimetype": "text/x-python",
   "name": "python",
   "nbconvert_exporter": "python",
   "pygments_lexer": "ipython3",
   "version": "3.6.5"
  }
 },
 "nbformat": 4,
 "nbformat_minor": 2
}
