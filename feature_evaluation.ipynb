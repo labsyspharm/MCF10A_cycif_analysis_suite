{
 "cells": [
  {
   "cell_type": "code",
   "execution_count": 123,
   "metadata": {},
   "outputs": [
    {
     "name": "stdout",
     "output_type": "stream",
     "text": [
      "The autoreload extension is already loaded. To reload it, use:\n",
      "  %reload_ext autoreload\n"
     ]
    }
   ],
   "source": [
    "import pandas as pd\n",
    "import os\n",
    "import numpy as np\n",
    "import json\n",
    "from sklearn.model_selection import train_test_split, cross_val_score\n",
    "from sklearn.feature_selection import RFE,RFECV,SelectKBest\n",
    "from sklearn.preprocessing import scale, robust_scale, minmax_scale\n",
    "from sklearn.impute import SimpleImputer\n",
    "from sklearn.linear_model import LogisticRegression\n",
    "from sklearn.ensemble import RandomForestClassifier\n",
    "from sklearn.metrics import accuracy_score as acc\n",
    "from sklearn.decomposition import PCA\n",
    "import seaborn as sns\n",
    "import matplotlib.pyplot as plt\n",
    "\n",
    "from feature_selection import *\n",
    "from unsupervised_analysis import plot_PCA_2D, PCA_transform_data\n",
    "from cycifsuite.get_data import read_synapse_file\n",
    "from rfpimp import importances\n",
    "%load_ext autoreload\n",
    "%autoreload 2"
   ]
  },
  {
   "cell_type": "code",
   "execution_count": 153,
   "metadata": {},
   "outputs": [
    {
     "name": "stdout",
     "output_type": "stream",
     "text": [
      "Welcome, Yunguan Wang!\n",
      "\n",
      "['plate_2_txt_features_BMP2.hdf', 'plate_2_txt_features_EGF.hdf', 'plate_2_txt_features_HGF.hdf', 'plate_2_txt_features_IFNG.hdf', 'plate_2_txt_features_OSM.hdf', 'plate_2_txt_features_PBS.hdf', 'plate_2_txt_features_TGFB.hdf']\n"
     ]
    }
   ],
   "source": [
    "path = 'd:/data/MCF10A 090718 data/'\n",
    "feature_files = [x for x in os.listdir(path) if ('plate_2_txt_' in x) and 'all' not in x]\n",
    "sample_size=None\n",
    "pooled_metadata = pd.read_csv(read_synapse_file('syn17902177'),index_col=0)\n",
    "with open('d:/data/MCF10A 090718 data/feature_metadata.json') as f:\n",
    "    data=json.load(f)\n",
    "feature_meta = pd.DataFrame.from_dict(data).transpose()\n",
    "feature_meta = feature_meta.loc[[x for x in feature_meta.index if 'cellpos' not in x]]\n",
    "print(feature_files)"
   ]
  },
  {
   "cell_type": "markdown",
   "metadata": {},
   "source": [
    "# Getting some simple stats on data, e.g., std, cv\n",
    "Since Anova is fast, ran it on all data instead of sampled data.\n",
    "Read full data just for anova.\n",
    "#### Figure 1A std histogram and 1B ANOVA."
   ]
  },
  {
   "cell_type": "code",
   "execution_count": null,
   "metadata": {},
   "outputs": [],
   "source": [
    "x, y = make_x_and_y(path, feature_files)\n",
    "_,sk = selct_k_anova(x,y,x.shape[1])\n",
    "plot_feature_var(x, y, sk, feature_meta)\n",
    "del x, y"
   ]
  },
  {
   "cell_type": "markdown",
   "metadata": {},
   "source": [
    "# Read and bin the data well-wise\n",
    "#### **Note: Scaling for PCA**\n",
    "PCA to test if the centroids are separable in various feature spaces.\n",
    "#### Figure 2"
   ]
  },
  {
   "cell_type": "code",
   "execution_count": 156,
   "metadata": {},
   "outputs": [],
   "source": [
    "# x_binned, y_binned = make_x_and_y(path, feature_files, binning=True, metadata=pooled_metadata)\n",
    "plot_binned_pca_plot(x_binned, y_binned, figsize=(8,5), figname='p2 PCA 2D scatter all features.png')\n",
    "plot_feature_wise_pca(x_binned, y_binned,  feature_meta, figsize=(8,5), save_fig='p2')"
   ]
  },
  {
   "cell_type": "markdown",
   "metadata": {},
   "source": [
    "## Evaluate full model and models with different cat of features"
   ]
  },
  {
   "cell_type": "code",
   "execution_count": 104,
   "metadata": {},
   "outputs": [
    {
     "name": "stdout",
     "output_type": "stream",
     "text": [
      "processing plate_2_txt_features_BMP2.hdf\n",
      "processing plate_2_txt_features_EGF.hdf\n",
      "processing plate_2_txt_features_HGF.hdf\n",
      "processing plate_2_txt_features_IFNG.hdf\n",
      "processing plate_2_txt_features_OSM.hdf\n",
      "processing plate_2_txt_features_PBS.hdf\n",
      "processing plate_2_txt_features_TGFB.hdf\n",
      "Full feature accuracy 0.7103734439834025\n"
     ]
    }
   ],
   "source": [
    "x_train, x_test, y_train, y_test = make_x_and_y(path, feature_files,sample_size=sample_size, test_size=0.20)\n",
    "full_model = RandomForestClassifier(100)\n",
    "full_model.fit(x_train, y_train)\n",
    "y_pred = full_model.predict(x_test)\n",
    "print('Full feature accuracy {}'.format(acc(y_test, y_pred)))"
   ]
  },
  {
   "cell_type": "code",
   "execution_count": 205,
   "metadata": {},
   "outputs": [],
   "source": [
    "# os.chdir('Results/Feature selection/plate 2/')\n",
    "# Evaluate feature importances in different categories\n",
    "rf_feature_imp_plot(full_model, feature_meta, x_train.columns, savefig_prefix='p2')\n",
    "# stats = feature_meta.loc[feature_meta.marker=='stat3']\n",
    "for meta_col in ['feature_chr','marker']:\n",
    "    if not os.path.exists(meta_col):\n",
    "        os.mkdir(meta_col)\n",
    "    for j in feature_meta[meta_col].dropna().unique():\n",
    "        prefix = (meta_col + '/p2 ' + j).replace('|','')\n",
    "        new_f_meta = feature_meta.loc[feature_meta[meta_col]==j].dropna()\n",
    "        if new_f_meta.shape[0]==0:\n",
    "            continue\n",
    "        f_meta_cols = [x for x in ['a_feature_type','feature_chr', 'marker', 'sublocation'] if x!=key]\n",
    "        rf_feature_imp_plot(full_model, new_f_meta, x_train.columns, feature_meta_cols=f_meta_cols, savefig_prefix=prefix, title=j)"
   ]
  },
  {
   "cell_type": "code",
   "execution_count": 190,
   "metadata": {},
   "outputs": [],
   "source": [
    "\"\"\"Define sets of features\n",
    "\"\"\"\n",
    "feature_sets = pd.Series()\n",
    "for feature_set_name in feature_meta.a_feature_type.unique():\n",
    "    feature_list = feature_meta[feature_meta.a_feature_type==feature_set_name].index.tolist()\n",
    "    feature_sets[feature_set_name] = feature_list\n",
    "# old_int features\n",
    "feature_list = [k for k in x_train.columns if '_int_' in k]    \n",
    "feature_list = [k for k in feature_list if 'mean' in k]\n",
    "feature_list = [k for k in feature_list if k.split('_')[-1] in ['nuc','cyto']]\n",
    "feature_sets['old_int'] = feature_list\n",
    "# mean, standev\n",
    "feature_list = feature_meta[feature_meta.feature_chr.isin(['mean','standev'])].index.tolist()\n",
    "feature_sets['mean+sd'] = feature_list\n",
    "feature_sets['all'] = feature_meta.index.tolist()"
   ]
  },
  {
   "cell_type": "code",
   "execution_count": 195,
   "metadata": {},
   "outputs": [
    {
     "data": {
      "image/png": "[encoded data removed]",
      "text/plain": [
       "<Figure size 432x288 with 1 Axes>"
      ]
     },
     "metadata": {},
     "output_type": "display_data"
    }
   ],
   "source": [
    "cat_model = RandomForestClassifier(100)\n",
    "model_stats = pd.DataFrame()\n",
    "for i in feature_sets.index:\n",
    "    feature_list = feature_sets[i]\n",
    "    feature_list = [x for x in feature_list if x in x_train.columns]\n",
    "    rf_cv = cross_val_score(cat_model, x_train[feature_list], y_train,scoring='accuracy', cv=5,n_jobs=4)\n",
    "    model_stats.loc['mean',i] = rf_cv.mean()\n",
    "    model_stats.loc['sd',i] = rf_cv.std()\n",
    "    print('CV accurary with feature category {} with {} features : {:.2f}'.format(i, len(feature_list), rf_cv.mean()))\n",
    "# plotting\n",
    "model_stats.transpose().plot(kind='bar',yerr='sd')\n",
    "plt.ylabel('Random forest accuracy', fontsize='x-large')\n",
    "plt.xticks(fontsize='x-large')\n",
    "plt.title('Model performance of feature sets',fontsize='x-large')\n",
    "plt.legend('')\n",
    "plt.tight_layout()\n",
    "plt.savefig('Model performance of feature sets.png')"
   ]
  },
  {
   "cell_type": "markdown",
   "metadata": {},
   "source": [
    "### Evaluate the single cell level data on morphology feature. (10% sampled data)"
   ]
  },
  {
   "cell_type": "code",
   "execution_count": null,
   "metadata": {},
   "outputs": [],
   "source": [
    "# pca=PCA(2)\n",
    "# feature_list = [k for k in x_train.columns if 'mor' in k]\n",
    "# pca_x = pca.fit_transform(x_train[feature_list])\n",
    "# pca_x = pd.DataFrame(pca_x, columns=['pc1','pc2'])\n",
    "# pca_x['ligand'] = y_train\n",
    "# sns.scatterplot('pc1','pc2',data=pca_x,hue='ligand')\n",
    "# plt.title('10 morphology feature', fontsize=18)"
   ]
  }
 ],
 "metadata": {
  "kernelspec": {
   "display_name": "Python 3",
   "language": "python",
   "name": "python3"
  },
  "language_info": {
   "codemirror_mode": {
    "name": "ipython",
    "version": 3
   },
   "file_extension": ".py",
   "mimetype": "text/x-python",
   "name": "python",
   "nbconvert_exporter": "python",
   "pygments_lexer": "ipython3",
   "version": "3.6.5"
  }
 },
 "nbformat": 4,
 "nbformat_minor": 2
}
