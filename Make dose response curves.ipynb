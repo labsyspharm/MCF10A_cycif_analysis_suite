{
 "cells": [
  {
   "cell_type": "code",
   "execution_count": null,
   "metadata": {},
   "outputs": [],
   "source": [
    "import pandas as pd\n",
    "from matplotlib import pyplot as plt\n",
    "import seaborn as sns\n",
    "import os\n",
    "import numpy as np"
   ]
  },
  {
   "cell_type": "code",
   "execution_count": null,
   "metadata": {},
   "outputs": [],
   "source": [
    "# metadata = pd.read_csv('D:/data/MCF10A commons metadata.csv',index_col=0)\n",
    "# metadata.Conc = metadata.Conc.apply(lambda x: \"{:.1e}\".format(x))\n",
    "\n",
    "# condition_vc = metadata.groupby(['DrugName','time','Conc','Cluster']).well.count()\n",
    "# # This is a very cool way of using multiindex, first get the by level counts and reset index to align with the orginal one then do the element-wise div to get the frequency\n",
    "# level_sum = condition_vc.groupby(['DrugName','time','Conc']).transform('sum')\n",
    "# condition_weight = condition_vc.div(level_sum)\n",
    "\n",
    "df_fc = pd.read_excel('D:/data/MCF10A commons report.xlsx',index_col=0)\n",
    "# print(metadata.head())\n",
    "print(df_fc.head())"
   ]
  },
  {
   "cell_type": "code",
   "execution_count": null,
   "metadata": {},
   "outputs": [],
   "source": [
    "# make heatmap\n",
    "df_fc['condition'] = df_fc.DrugName + '_' + df_fc.Dose.astype(str)+ '_' + df_fc.Time + '_' + df_fc.Cluster\n",
    "df_summary = df_fc.pivot(values='logFC',columns='condition').transpose()\n",
    "offset = []\n",
    "for i,tag in enumerate(['Time','Dose','Drug']):\n",
    "    metadata = [x.split('_')[i] for x in df_summary.index]\n",
    "    df_summary.insert(0,tag,metadata)\n",
    "    offset+=['']\n",
    "df_summary = df_summary.transpose()\n",
    "df.loc['Dose'] = \n",
    "for i, tag in enumerate(['Location','Marker']):\n",
    "    metadata = [x.split('_')[i] for x in df_summary.index[3:]]\n",
    "    df_summary.insert(0,tag,offset+metadata)\n",
    "df_summary.to_csv('MCF10A drug response heatmap.csv')"
   ]
  },
  {
   "cell_type": "code",
   "execution_count": null,
   "metadata": {},
   "outputs": [],
   "source": [
    "# Make series of drug by marker line plots over time and clusters.\n",
    "os.chdir('D:/data')\n",
    "for marker in df_fc.index.unique():\n",
    "    for drug in df_fc.DrugName.unique():\n",
    "        sub_df_fc = df_fc.loc[(df_fc.index==marker)&(df_fc.DrugName==drug),:]\n",
    "        scattered = sub_df_fc[sub_df_fc.Cluster != 'Whole well']\n",
    "        pooled = sub_df_fc[sub_df_fc.Cluster == 'Whole well']\n",
    "        fig = sns.pointplot(x=\"Dose\", y=\"logFC\", data=pooled, hue = \"Time\", linestyles=':')\n",
    "        fig = sns.swarmplot(x='Dose', y='logFC', data=scattered, hue = \"Time\",)\n",
    "        handles, labels = fig.get_legend_handles_labels()\n",
    "        fig.legend(handles[:3], labels[:3])\n",
    "        fig.set_title(drug+': '+marker)\n",
    "        fig = fig.get_figure()\n",
    "        fig.savefig(' '.join([drug,marker])+'.png')\n",
    "        fig.clear()"
   ]
  }
 ],
 "metadata": {
  "kernelspec": {
   "display_name": "Python 3",
   "language": "python",
   "name": "python3"
  },
  "language_info": {
   "codemirror_mode": {
    "name": "ipython",
    "version": 3
   },
   "file_extension": ".py",
   "mimetype": "text/x-python",
   "name": "python",
   "nbconvert_exporter": "python",
   "pygments_lexer": "ipython3",
   "version": "3.6.5"
  }
 },
 "nbformat": 4,
 "nbformat_minor": 2
}
